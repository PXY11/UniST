{
 "cells": [
  {
   "cell_type": "markdown",
   "metadata": {},
   "source": [
    "# 获取原始数据"
   ]
  },
  {
   "cell_type": "code",
   "execution_count": 3,
   "metadata": {
    "scrolled": false
   },
   "outputs": [
    {
     "name": "stdout",
     "output_type": "stream",
     "text": [
      "init_price = 0.0002559611947100053\n",
      "**********************【Price Below MA】【创建Short Vol池子】【第1次建池】***********************************\n",
      "转换后钱包中余额 amount0:  149575000000.0 amount1:  217215730718302502912\n",
      "price:  0.0002559611947100053\n",
      "$$$$$$$【Upper Price】: 0.0005119223894200106\n",
      "$$$$$$$【Lower Price】: 2.5596119471000553e-07\n",
      "######【L】:8196810249066651【USDC】:149575000000【ETH】:126998805173135507456\n",
      "将要投入池子的数量 amount_t0: 149575000000 amount_t1: 126998805173135491072\n",
      "【RealWorldTime】:2021-05-10 09:17:52, Timestamp: 1620609472, Blocknumber: 12403600\n",
      "Mint position： Position(L=8196791550993594, tick=[124500, 200520], range=[1958.6753, 3920162.1450])\n",
      "【Mint amount】: token0=149573.526975, token1=126.9988051731355\n",
      "Wallet amount: token0=1.473025, token1=90.21692554516702\n",
      "【SWAP_USDC_WETH_3000】\n",
      "\n",
      "USDC手续费 3804.026789 ETH手续费(USDC计价) 4896.359831476787\n",
      "***************************资金曲线绩效***************************\n",
      "最大回撤 0.5412308093280513\n",
      "最长回撤持续期 165 日 起始日期 2021-05-12 00:00:00 结束日期 2021-10-24 00:00:00\n",
      "年化收益 -0.10172361968607069\n",
      "夏普比率 -0.10574412575816684\n",
      "卡尔玛比率 -0.18794868646218155\n"
     ]
    }
   ],
   "source": [
    "import os\n",
    "import sys\n",
    "import talib as ta\n",
    "syspath = os.path.split(os.path.abspath(\".\"))[0]\n",
    "sys.path.append(syspath)\n",
    "import univ3api.simulation as sim\n",
    "import univ3api.utils as utils\n",
    "import importlib\n",
    "import pandas as pd\n",
    "import warnings\n",
    "warnings.filterwarnings('ignore')\n",
    "import pandas as pd\n",
    "import pickle\n",
    "import talib as ta\n",
    "from dateutil.parser import parse\n",
    "import numpy as np\n",
    "# run if simulation file is updated\n",
    "importlib.reload(sim)\n",
    "\n",
    "HOST = \"mongodb://172.16.20.88:27017/ETHDATA\"\n",
    "source = sim.DataUtilMongoDB(HOST)\n",
    "\n",
    "from datetime import datetime\n",
    "import time\n",
    "d1 = datetime(2021,5,10, 9)\n",
    "# d2 = datetime(2021,11,10,9)\n",
    "d2 = datetime(2021,12,14,9)\n",
    "t1 = int(time.mktime(d1.timetuple()))\n",
    "t2 = int(time.mktime(d2.timetuple()))\n",
    "\n",
    "# print(d1.timetuple())\n",
    "# print(time.mktime(d1.timetuple()))\n",
    "# print(int(time.mktime(d1.timetuple())))\n",
    "\n",
    "# swapdata = source.swap_by_time(\"SWAP_WETH_USDT_3000\", t1, t2)\n",
    "swapdata = source.swap_by_time(\"SWAP_USDC_WETH_3000\", t1, t2)\n",
    "swapdata.tail()\n",
    "pricedata = swapdata[[\"timestamp\", \"sqrtPriceX96\"]]\n",
    "# pricedata[\"price\"] = pricedata[\"sqrtPriceX96\"].apply(utils.PriceConverter(18, 6).x96_to_price)\n",
    "pricedata[\"price\"] = pricedata[\"sqrtPriceX96\"].apply(utils.PriceConverter(6, 18).x96_to_price)\n",
    "pricedata['datetime']  = pd.to_datetime(pricedata['timestamp'],unit='s')\n",
    "pricedata['datetime'] = [str(tmp)[:] for tmp in pricedata['datetime'].tolist()]\n",
    "pricedata.head(30)\n",
    "\n",
    "pricedata['SmaLowerLma'] = [np.nan]*len(pricedata)\n",
    "pricedata['VolLowerBelowmaQuantile50'] = [np.nan]*len(pricedata)\n",
    "pricedata['CloseLowerMA'] = [np.nan]*len(pricedata)\n",
    "pricedata['VolHigherOvermaQuantile50Twosigma'] = [np.nan]*len(pricedata)\n",
    "pricedata['revoke_pos'] = [np.nan]*len(pricedata)\n",
    "\n",
    "pricedata_res = pricedata[['timestamp','sqrtPriceX96','price',\n",
    "                           'SmaLowerLma',\n",
    "                           'VolLowerBelowmaQuantile50',\n",
    "                          'CloseLowerMA',\n",
    "                           'VolHigherOvermaQuantile50Twosigma',\n",
    "                           'revoke_pos']]\n",
    "pricedata_res\n",
    "\n",
    "init_price = pricedata_res[\"price\"][0]\n",
    "\n",
    "decimal0 = 6 #USDC的精度\n",
    "decimal1 = 18 #ETH的精度\n",
    "\n",
    "init_amount0 = 1000000*1e6 #初始持有USDC的数量\n",
    "init_amount1 = 0 #初始持有ETH的数量\n",
    "print('init_price =',init_price)\n",
    "\n",
    "import Strategy_none_3000_100per\n",
    "importlib.reload(utils)\n",
    "importlib.reload(sim)\n",
    "importlib.reload(Strategy_none_3000_100per)\n",
    "strategy = Strategy_none_3000_100per.HoldStrategy(init_amount0, init_amount1, decimal0, decimal1, sim.PoolFee.low, True)\n",
    "strategy.init(swapdata.iloc[0].to_dict())\n",
    "\n",
    "# strategy.run(swapdata, priceDt)\n",
    "strategy.run(swapdata, pricedata_res)\n",
    "\n",
    "report = strategy.report()\n",
    "\n",
    "positions = report.positions\n",
    "positions\n",
    "\n",
    "total_balance = report.total_balance(draw_plot=False, plain=True)\n",
    "backtest_report = total_balance.copy(deep=True)\n",
    "\n",
    "price = pricedata.drop_duplicates(\"timestamp\").set_index(\"timestamp\")[\"price\"]\n",
    "price\n",
    "usdc_balance = total_balance.set_index(\"timestamp\")[[\"amount0NoFee\", \"cumFee0\"]].sum(axis=1)\n",
    "eth_balance = total_balance.set_index(\"timestamp\")[[\"amount1NoFee\", \"cumFee1\"]].sum(axis=1) / price\n",
    "eth_balance+usdc_balance\n",
    "# eth_balance.plot()\n",
    "# usdt_balance.plot()\n",
    "tb_Timing = (eth_balance+usdc_balance)\n",
    "tb_Timing_origin = tb_Timing.copy(deep=True)\n",
    "time_to_print = list(map(time.localtime,tb_Timing.index.tolist()))\n",
    "time_to_print_2  = [time.strftime('%Y-%m-%d %H:%M:%S', i) for i in time_to_print]\n",
    "# time_to_print_2  = [time.strftime('%Y-%m-%d', i) for i in time_to_print]\n",
    "tb_Timing.index = time_to_print_2\n",
    "# tb_Timing.plot(rot = 45,grid=True)\n",
    "# tb_Timing.to_csv('../../data/usdceth/tb_timing_v2.csv')\n",
    "# tb_Timing_origin.to_csv('../../data/usdceth/tb_timing_origin_v2.csv')\n",
    "\n",
    "eth_balance\n",
    "eth_balance_df = pd.DataFrame(eth_balance)\n",
    "eth_balance_df.columns = ['eth_balance']\n",
    "eth_balance_df\n",
    "\n",
    "usdc_balance\n",
    "usdc_balance_df = pd.DataFrame(usdc_balance)\n",
    "usdc_balance_df.columns = ['usdc_balance']\n",
    "usdc_balance_df\n",
    "\n",
    "tb_Timing\n",
    "\n",
    "# tb_Timing.resample('D').sum()\n",
    "pd.to_datetime(tb_Timing.index.tolist()[0])\n",
    "tb_Timing.index = pd.to_datetime(tb_Timing.index)\n",
    "tb_Timing.resample('D').last()\n",
    "\n",
    "df_tb = pd.DataFrame(tb_Timing.resample('D').last(),columns=['close'])\n",
    "df_tb['return'] = df_tb['close'].pct_change()\n",
    "df_tb['return_2'] = df_tb['close']/df_tb['close'].shift(1) - 1\n",
    "df_tb = df_tb.iloc[:-1,:]\n",
    "df_tb\n",
    "\n",
    "# df_tb['close'].plot()\n",
    "\n",
    "from scipy.stats.mstats import gmean\n",
    "import math\n",
    "def max_drawdown(df):\n",
    "    \"\"\"\n",
    "    :return: Max drawdown of the financial series.\n",
    "    \"\"\"\n",
    "    roll_max = df['close'].expanding().max()\n",
    "    maxDrawdown = -1 * np.min(df['close'] / roll_max - 1)  # 计算得到最大回撤\n",
    "    return maxDrawdown\n",
    "\n",
    "def annual_return(df):\n",
    "    \"\"\"\n",
    "    :return: Annual return.\n",
    "    \"\"\"\n",
    "    annualReturn = gmean(df['return'].dropna() + 1) ** 365 - 1  # 得到年化收益率\n",
    "    return annualReturn\n",
    "\n",
    "def annual_std(df):\n",
    "    \"\"\"\n",
    "    :return: The annual standard deviation.\n",
    "    \"\"\"\n",
    "    dailyStd = df['return'].std()  # 得到日度波动率\n",
    "    annualStd = dailyStd * math.sqrt(365)  # 得到年化波动率\n",
    "    return annualStd\n",
    "\n",
    "def sharpe_ratio(df):\n",
    "    \"\"\"\n",
    "    :return:  Sharpe ratio.\n",
    "    \"\"\"\n",
    "    annualReturn = annual_return(df)\n",
    "    annualStd = annual_std(df)\n",
    "    sharpeRatio = annualReturn / annualStd  # 得到夏普比\n",
    "    return sharpeRatio\n",
    "\n",
    "def calmar_ratio(df):\n",
    "    \"\"\"\n",
    "    :return: Calmar ratio.\n",
    "    \"\"\"\n",
    "    annualReturn = annual_return(df)\n",
    "    maxDrawdown = max_drawdown(df)\n",
    "    calmarRatio = annualReturn / maxDrawdown\n",
    "    return calmarRatio\n",
    "\n",
    "def max_drawdown_duration(df):\n",
    "    \"\"\"\n",
    "    :return: Max Drawdown duration\n",
    "    \"\"\"\n",
    "    xdate = df_tb.index.tolist()\n",
    "    ycapital = df_tb['close'].tolist()\n",
    "    duration = []\n",
    "    tmp_max_capital = ycapital[0]\n",
    "    for c in ycapital:\n",
    "        if c >= tmp_max_capital:\n",
    "            duration.append(0)\n",
    "        else:\n",
    "            duration.append(duration[-1]+1)\n",
    "        tmp_max_capital = max(c, tmp_max_capital)\n",
    "    MaxDDD = max(duration)\n",
    "    endidx = np.argmax(duration)\n",
    "    startidx = endidx - MaxDDD\n",
    "#     print(xdate[startidx])\n",
    "#     print(xdate[endidx])\n",
    "    startD = xdate[startidx]\n",
    "    endD = xdate[endidx]\n",
    "#     return MaxDDD, startidx, endidx\n",
    "    return MaxDDD, startD,endD\n",
    "    \n",
    "print('【SWAP_USDC_WETH_3000】')\n",
    "print()\n",
    "annualReturnNoneStrategy100 = annual_return(df_tb)\n",
    "cumfee0 = backtest_report['cumFee0'].tolist()[-1]\n",
    "cumfee1 = backtest_report['cumFee1'].tolist()[-1]/pricedata_res['price'].tolist()[-1]\n",
    "print('USDC手续费',cumfee0,'ETH手续费(USDC计价)',cumfee1)\n",
    "print('***************************资金曲线绩效***************************')\n",
    "print('最大回撤',max_drawdown(df_tb))\n",
    "print('最长回撤持续期',max_drawdown_duration(df_tb)[0],'日',\n",
    "      '起始日期',max_drawdown_duration(df_tb)[1],\n",
    "      '结束日期',max_drawdown_duration(df_tb)[2])\n",
    "print('年化收益',annual_return(df_tb))\n",
    "print('夏普比率',sharpe_ratio(df_tb))\n",
    "print('卡尔玛比率',calmar_ratio(df_tb))\n",
    "# df_tb['close'].plot(title='Total Balance')"
   ]
  },
  {
   "cell_type": "code",
   "execution_count": null,
   "metadata": {},
   "outputs": [],
   "source": []
  },
  {
   "cell_type": "markdown",
   "metadata": {},
   "source": [
    "# 指标计算"
   ]
  },
  {
   "cell_type": "code",
   "execution_count": null,
   "metadata": {},
   "outputs": [],
   "source": []
  },
  {
   "cell_type": "markdown",
   "metadata": {},
   "source": [
    "# 回测"
   ]
  },
  {
   "cell_type": "code",
   "execution_count": null,
   "metadata": {},
   "outputs": [],
   "source": []
  },
  {
   "cell_type": "markdown",
   "metadata": {},
   "source": [
    "# 建池撤池详细信息"
   ]
  },
  {
   "cell_type": "code",
   "execution_count": null,
   "metadata": {},
   "outputs": [],
   "source": []
  },
  {
   "cell_type": "markdown",
   "metadata": {},
   "source": [
    "# 获取原始绩效"
   ]
  },
  {
   "cell_type": "code",
   "execution_count": null,
   "metadata": {},
   "outputs": [],
   "source": []
  },
  {
   "cell_type": "code",
   "execution_count": null,
   "metadata": {},
   "outputs": [],
   "source": []
  },
  {
   "cell_type": "code",
   "execution_count": null,
   "metadata": {},
   "outputs": [],
   "source": []
  },
  {
   "cell_type": "code",
   "execution_count": null,
   "metadata": {},
   "outputs": [],
   "source": []
  },
  {
   "cell_type": "code",
   "execution_count": null,
   "metadata": {},
   "outputs": [],
   "source": []
  },
  {
   "cell_type": "code",
   "execution_count": null,
   "metadata": {},
   "outputs": [],
   "source": []
  },
  {
   "cell_type": "markdown",
   "metadata": {},
   "source": [
    "# 计算绩效指标"
   ]
  },
  {
   "cell_type": "code",
   "execution_count": null,
   "metadata": {},
   "outputs": [],
   "source": []
  },
  {
   "cell_type": "code",
   "execution_count": null,
   "metadata": {},
   "outputs": [],
   "source": []
  },
  {
   "cell_type": "code",
   "execution_count": null,
   "metadata": {},
   "outputs": [],
   "source": []
  },
  {
   "cell_type": "code",
   "execution_count": null,
   "metadata": {},
   "outputs": [],
   "source": []
  },
  {
   "cell_type": "code",
   "execution_count": null,
   "metadata": {},
   "outputs": [],
   "source": []
  }
 ],
 "metadata": {
  "kernelspec": {
   "display_name": "Python 3 (ipykernel)",
   "language": "python",
   "name": "python3"
  },
  "language_info": {
   "codemirror_mode": {
    "name": "ipython",
    "version": 3
   },
   "file_extension": ".py",
   "mimetype": "text/x-python",
   "name": "python",
   "nbconvert_exporter": "python",
   "pygments_lexer": "ipython3",
   "version": "3.9.7"
  },
  "toc": {
   "base_numbering": 1,
   "nav_menu": {},
   "number_sections": true,
   "sideBar": true,
   "skip_h1_title": false,
   "title_cell": "Table of Contents",
   "title_sidebar": "Contents",
   "toc_cell": false,
   "toc_position": {},
   "toc_section_display": true,
   "toc_window_display": false
  },
  "varInspector": {
   "cols": {
    "lenName": 16,
    "lenType": 16,
    "lenVar": 40
   },
   "kernels_config": {
    "python": {
     "delete_cmd_postfix": "",
     "delete_cmd_prefix": "del ",
     "library": "var_list.py",
     "varRefreshCmd": "print(var_dic_list())"
    },
    "r": {
     "delete_cmd_postfix": ") ",
     "delete_cmd_prefix": "rm(",
     "library": "var_list.r",
     "varRefreshCmd": "cat(var_dic_list()) "
    }
   },
   "types_to_exclude": [
    "module",
    "function",
    "builtin_function_or_method",
    "instance",
    "_Feature"
   ],
   "window_display": false
  }
 },
 "nbformat": 4,
 "nbformat_minor": 2
}
