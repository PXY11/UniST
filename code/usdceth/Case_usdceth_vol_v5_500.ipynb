{
 "cells": [
  {
   "cell_type": "markdown",
   "metadata": {},
   "source": [
    "# 获取原始数据"
   ]
  },
  {
   "cell_type": "code",
   "execution_count": null,
   "metadata": {},
   "outputs": [],
   "source": [
    "import os\n",
    "import sys\n",
    "import talib as ta\n",
    "syspath = os.path.split(os.path.abspath(\".\"))[0]\n",
    "sys.path.append(syspath)\n",
    "import univ3api.simulation as sim\n",
    "import univ3api.utils as utils\n",
    "import importlib\n",
    "import pandas as pd\n",
    "import warnings\n",
    "warnings.filterwarnings('ignore')\n",
    "import pandas as pd\n",
    "import pickle\n",
    "import talib as ta\n",
    "from dateutil.parser import parse\n",
    "import numpy as np\n",
    "# run if simulation file is updated\n",
    "importlib.reload(sim)\n",
    "\n",
    "HOST = \"mongodb://172.16.11.81:27017/ETHDATA\"\n",
    "source = sim.DataUtilMongoDB(HOST)\n",
    "\n",
    "from datetime import datetime\n",
    "import time\n",
    "d1 = datetime(2021,5,10, 9)\n",
    "d2 = datetime(2021,11,10,9)\n",
    "t1 = int(time.mktime(d1.timetuple()))\n",
    "t2 = int(time.mktime(d2.timetuple()))\n",
    "\n",
    "# print(d1.timetuple())\n",
    "# print(time.mktime(d1.timetuple()))\n",
    "# print(int(time.mktime(d1.timetuple())))\n",
    "\n",
    "# swapdata = source.swap_by_time(\"SWAP_WETH_USDT_3000\", t1, t2)\n",
    "swapdata = source.swap_by_time(\"SWAP_USDC_WETH_500\", t1, t2)\n",
    "swapdata.tail()\n",
    "pricedata = swapdata[[\"timestamp\", \"sqrtPriceX96\"]]\n",
    "# pricedata[\"price\"] = pricedata[\"sqrtPriceX96\"].apply(utils.PriceConverter(18, 6).x96_to_price)\n",
    "pricedata[\"price\"] = pricedata[\"sqrtPriceX96\"].apply(utils.PriceConverter(6, 18).x96_to_price)\n",
    "pricedata['datetime']  = pd.to_datetime(pricedata['timestamp'],unit='s')\n",
    "pricedata['datetime'] = [str(tmp)[:] for tmp in pricedata['datetime'].tolist()]\n",
    "pricedata"
   ]
  },
  {
   "cell_type": "code",
   "execution_count": null,
   "metadata": {},
   "outputs": [],
   "source": [
    "pricedata['datetime'].tolist()[0]"
   ]
  },
  {
   "cell_type": "markdown",
   "metadata": {},
   "source": [
    "# 指标计算"
   ]
  },
  {
   "cell_type": "code",
   "execution_count": null,
   "metadata": {
    "scrolled": false
   },
   "outputs": [],
   "source": [
    "def load_obj(name):\n",
    "    with open(name + '.pkl', 'rb') as f:\n",
    "        return pickle.load(f)\n",
    "#之后要扩展回测区间时，需要更新此处的基本行情数据\n",
    "df_eth = load_obj('../../data/usdceth/symbolsData_2018032120211116_60min_v16_E')['60min'] \n",
    "# df_eth = load_obj('../../data/usdceth/symbolsData_2018032120211118_1440min_v17_E')['1440min']\n",
    "df_eth.columns= ['open','high','low','close','volume']\n",
    "df_eth = df_eth.loc['2018-03-22':'2021-11-09']\n",
    "df_eth.reset_index(inplace=True)\n",
    "df_eth.columns = ['datetime','open','high','low','close','volume']\n",
    "def cal_indicator(dataCoin):    \n",
    "    dataCoin['pctChange'] = dataCoin['close'].pct_change()\n",
    "    dataCoin['pctStd'] = ta.STDDEV(dataCoin['pctChange'], 24*5)*(24**0.5)\n",
    "    dataCoin['pctStdVma'] = ta.SUM(dataCoin['pctStd']*dataCoin['volume'], 24*50) / ta.SUM(dataCoin['volume'], 24*50)\n",
    "    dataCoin['closeVma'] = ta.SUM(dataCoin['close']*dataCoin['volume'], 24*50) / ta.SUM(dataCoin['volume'], 24*50)\n",
    "    dataCoin['pctStdVSma'] = ta.EMA(dataCoin.pctStdVma, 24*3)\n",
    "    dataCoin['pctStdVLma'] = ta.MA(dataCoin.pctStdVma, 24*10)\n",
    "    dataCoin['SmaLowerLma'] = dataCoin['pctStdVSma']<dataCoin['pctStdVLma']\n",
    "    dataCoin['CloseLowerMA'] = dataCoin['close'] < dataCoin['closeVma']\n",
    "    #根据volResearch notebook里的BelowMA的vol stat中quantile50的2018.5至2021.5波动率统计得出\n",
    "    dataCoin['VolLowerBelowmaQuantile50'] = dataCoin['pctStd'] < 0.035857 \n",
    "    #根据volResearch notebook里的OverMA的vol stat中quantile50的2018.5至2021.5波动率统计得出\n",
    "    dataCoin['VolHigherOvermaQuantile50Twosigma'] = dataCoin['pctStd'] > (0.038511 + 2*0.018451)\n",
    "    #当波动率高于Belowma的vol stat中的Quantile50的1.05倍时撤销池子\n",
    "    dataCoin['revoke_pos'] = dataCoin['pctStd'] > 0.035857 *1.05\n",
    "    \n",
    "cal_indicator(df_eth)\n",
    "\n",
    "df_eth_test_period = df_eth[df_eth['datetime']>parse('2021-05-10 00:00:00+00:00')]\n",
    "df_signal_tmp = df_eth_test_period[['datetime',\n",
    "                               'SmaLowerLma',\n",
    "                               'VolLowerBelowmaQuantile50',\n",
    "                               'CloseLowerMA',\n",
    "                               'VolHigherOvermaQuantile50Twosigma',\n",
    "                               'revoke_pos']]\n",
    "df_signal_tmp['timestamp'] = [0]*len(df_signal_tmp)\n",
    "df_signal_tmp['sqrtPriceX96'] = [0]*len(df_signal_tmp)\n",
    "df_signal_tmp['price'] = [0]*len(df_signal_tmp)\n",
    "\n",
    "df_signal_tmp = df_signal_tmp[['timestamp','sqrtPriceX96','price','datetime',\n",
    "                 'SmaLowerLma',\n",
    "                 'VolLowerBelowmaQuantile50',\n",
    "                 'CloseLowerMA',\n",
    "                 'VolHigherOvermaQuantile50Twosigma',\n",
    "                 'revoke_pos']]\n",
    "df_signal_tmp['datetime_2'] = df_signal_tmp['datetime']\n",
    "df_signal_tmp = df_signal_tmp.set_index('datetime_2')\n",
    "# df_signal_tmp = df_signal_tmp.resample('D').first()\n",
    "df_signal_tmp['datetime'] = [str(tmp)[:-6] for tmp in df_signal_tmp['datetime'].tolist()]\n",
    "df_signal_tmp['ind'] = [i for i in range(len(pricedata),len(pricedata)+len(df_signal_tmp))]\n",
    "df_signal_tmp.set_index('ind',inplace=True)\n",
    "pricedata_tmp = pricedata.append(df_signal_tmp)\n",
    "pricedata_tmp = pricedata_tmp.sort_values(by='datetime')\n",
    "pricedata_tmp_beforefill = pricedata_tmp.copy(deep = True)\n",
    "pricedata_tmp = pricedata_tmp.fillna(method = 'ffill')\n",
    "pricedata_res = pricedata_tmp.loc[pricedata.index]\n",
    "pricedata_res.set_index('datetime',inplace=True)\n",
    "pricedata_res"
   ]
  },
  {
   "cell_type": "markdown",
   "metadata": {},
   "source": [
    "# 回测"
   ]
  },
  {
   "cell_type": "code",
   "execution_count": null,
   "metadata": {},
   "outputs": [],
   "source": [
    "init_price = pricedata_res[\"price\"][0]\n",
    "\n",
    "decimal0 = 6 #USDC的精度\n",
    "decimal1 = 18 #ETH的精度\n",
    "\n",
    "init_amount0 = 1000000*1e6 #初始持有USDC的数量\n",
    "init_amount1 = 0 #初始持有ETH的数量\n",
    "print('init_price =',init_price)"
   ]
  },
  {
   "cell_type": "markdown",
   "metadata": {},
   "source": [
    "# 建池撤池详细信息"
   ]
  },
  {
   "cell_type": "code",
   "execution_count": null,
   "metadata": {
    "scrolled": true
   },
   "outputs": [],
   "source": [
    "import Strategy_usdceth_vol_v2\n",
    "importlib.reload(utils)\n",
    "importlib.reload(sim)\n",
    "importlib.reload(Strategy_usdceth_vol_v2)\n",
    "strategy = Strategy_usdceth_vol_v2.HoldStrategy(init_amount0, init_amount1, decimal0, decimal1, sim.PoolFee.low, True)\n",
    "strategy.init(swapdata.iloc[0].to_dict())\n",
    "\n",
    "# strategy.run(swapdata, priceDt)\n",
    "strategy.run(swapdata, pricedata_res)\n",
    "\n",
    "report = strategy.report()"
   ]
  },
  {
   "cell_type": "markdown",
   "metadata": {},
   "source": [
    "# 获取原始绩效"
   ]
  },
  {
   "cell_type": "code",
   "execution_count": null,
   "metadata": {
    "scrolled": false
   },
   "outputs": [],
   "source": [
    "positions = report.positions\n",
    "positions"
   ]
  },
  {
   "cell_type": "code",
   "execution_count": null,
   "metadata": {
    "scrolled": true
   },
   "outputs": [],
   "source": [
    "positions[5].get_balance(plain=True, draw_plot=True)"
   ]
  },
  {
   "cell_type": "code",
   "execution_count": null,
   "metadata": {
    "scrolled": true
   },
   "outputs": [],
   "source": [
    "total_balance = report.total_balance(draw_plot=False, plain=True)\n",
    "backtest_report = total_balance.copy(deep=True)"
   ]
  },
  {
   "cell_type": "code",
   "execution_count": null,
   "metadata": {},
   "outputs": [],
   "source": [
    "price = pricedata.drop_duplicates(\"timestamp\").set_index(\"timestamp\")[\"price\"]\n",
    "price\n",
    "usdc_balance = total_balance.set_index(\"timestamp\")[[\"amount0NoFee\", \"cumFee0\"]].sum(axis=1)\n",
    "eth_balance = total_balance.set_index(\"timestamp\")[[\"amount1NoFee\", \"cumFee1\"]].sum(axis=1) / price\n",
    "eth_balance+usdc_balance\n",
    "# eth_balance.plot()\n",
    "# usdt_balance.plot()\n",
    "tb_Timing = (eth_balance+usdc_balance)\n",
    "tb_Timing_origin = tb_Timing.copy(deep=True)\n",
    "time_to_print = list(map(time.localtime,tb_Timing.index.tolist()))\n",
    "time_to_print_2  = [time.strftime('%Y-%m-%d %H:%M:%S', i) for i in time_to_print]\n",
    "# time_to_print_2  = [time.strftime('%Y-%m-%d', i) for i in time_to_print]\n",
    "tb_Timing.index = time_to_print_2\n",
    "tb_Timing.plot(rot = 45,grid=True,title='Total Balance')\n",
    "# tb_Timing.to_csv('../../data/usdceth/tb_timing_v2.csv')\n",
    "# tb_Timing_origin.to_csv('../../data/usdceth/tb_timing_origin_v2.csv')"
   ]
  },
  {
   "cell_type": "code",
   "execution_count": null,
   "metadata": {},
   "outputs": [],
   "source": [
    "eth_balance\n",
    "eth_balance_df = pd.DataFrame(eth_balance)\n",
    "eth_balance_df.columns = ['eth_balance']\n",
    "eth_balance_df"
   ]
  },
  {
   "cell_type": "code",
   "execution_count": null,
   "metadata": {},
   "outputs": [],
   "source": [
    "usdc_balance\n",
    "usdc_balance_df = pd.DataFrame(usdc_balance)\n",
    "usdc_balance_df.columns = ['usdc_balance']\n",
    "usdc_balance_df"
   ]
  },
  {
   "cell_type": "code",
   "execution_count": null,
   "metadata": {},
   "outputs": [],
   "source": [
    "tb_Timing"
   ]
  },
  {
   "cell_type": "markdown",
   "metadata": {},
   "source": [
    "# 计算绩效指标"
   ]
  },
  {
   "cell_type": "code",
   "execution_count": null,
   "metadata": {},
   "outputs": [],
   "source": [
    "# tb_Timing.resample('D').sum()\n",
    "pd.to_datetime(tb_Timing.index.tolist()[0])\n",
    "tb_Timing.index = pd.to_datetime(tb_Timing.index)\n",
    "tb_Timing.resample('D').last()"
   ]
  },
  {
   "cell_type": "code",
   "execution_count": null,
   "metadata": {
    "scrolled": false
   },
   "outputs": [],
   "source": [
    "df_tb = pd.DataFrame(tb_Timing.resample('D').last(),columns=['close'])\n",
    "df_tb['return'] = df_tb['close'].pct_change()\n",
    "df_tb['return_2'] = df_tb['close']/df_tb['close'].shift(1) - 1\n",
    "df_tb"
   ]
  },
  {
   "cell_type": "code",
   "execution_count": null,
   "metadata": {},
   "outputs": [],
   "source": [
    "df_tb['close'].plot()"
   ]
  },
  {
   "cell_type": "code",
   "execution_count": null,
   "metadata": {},
   "outputs": [],
   "source": [
    "from scipy.stats.mstats import gmean\n",
    "import math\n",
    "def max_drawdown(df):\n",
    "    \"\"\"\n",
    "    :return: Max drawdown of the financial series.\n",
    "    \"\"\"\n",
    "    roll_max = df['close'].expanding().max()\n",
    "    maxDrawdown = -1 * np.min(df['close'] / roll_max - 1)  # 计算得到最大回撤\n",
    "    return maxDrawdown\n",
    "\n",
    "def annual_return(df):\n",
    "    \"\"\"\n",
    "    :return: Annual return.\n",
    "    \"\"\"\n",
    "    annualReturn = gmean(df['return'].dropna() + 1) ** 365 - 1  # 得到年化收益率\n",
    "    return annualReturn\n",
    "\n",
    "def annual_std(df):\n",
    "    \"\"\"\n",
    "    :return: The annual standard deviation.\n",
    "    \"\"\"\n",
    "    dailyStd = df['return'].std()  # 得到日度波动率\n",
    "    annualStd = dailyStd * math.sqrt(365)  # 得到年化波动率\n",
    "    return annualStd\n",
    "\n",
    "def sharpe_ratio(df):\n",
    "    \"\"\"\n",
    "    :return:  Sharpe ratio.\n",
    "    \"\"\"\n",
    "    annualReturn = annual_return(df)\n",
    "    annualStd = annual_std(df)\n",
    "    sharpeRatio = annualReturn / annualStd  # 得到夏普比\n",
    "    return sharpeRatio\n",
    "\n",
    "def calmar_ratio(df):\n",
    "    \"\"\"\n",
    "    :return: Calmar ratio.\n",
    "    \"\"\"\n",
    "    annualReturn = annual_return(df)\n",
    "    maxDrawdown = max_drawdown(df)\n",
    "    calmarRatio = annualReturn / maxDrawdown\n",
    "    return calmarRatio\n",
    "\n",
    "def max_drawdown_duration(df):\n",
    "    \"\"\"\n",
    "    :return: Max Drawdown duration\n",
    "    \"\"\"\n",
    "    xdate = df_tb.index.tolist()\n",
    "    ycapital = df_tb['close'].tolist()\n",
    "    duration = []\n",
    "    tmp_max_capital = ycapital[0]\n",
    "    for c in ycapital:\n",
    "        if c >= tmp_max_capital:\n",
    "            duration.append(0)\n",
    "        else:\n",
    "            duration.append(duration[-1]+1)\n",
    "        tmp_max_capital = max(c, tmp_max_capital)\n",
    "    MaxDDD = max(duration)\n",
    "    endidx = np.argmax(duration)\n",
    "    startidx = endidx - MaxDDD\n",
    "#     print(xdate[startidx])\n",
    "#     print(xdate[endidx])\n",
    "    startD = xdate[startidx]\n",
    "    endD = xdate[endidx]\n",
    "#     return MaxDDD, startidx, endidx\n",
    "    return MaxDDD, startD,endD\n",
    "    \n"
   ]
  },
  {
   "cell_type": "markdown",
   "metadata": {},
   "source": [
    "# 输出绩效"
   ]
  },
  {
   "cell_type": "code",
   "execution_count": null,
   "metadata": {},
   "outputs": [],
   "source": [
    "print('【SWAP_USDC_WETH_500】')\n",
    "print()\n",
    "\n",
    "cumfee0 = backtest_report['cumFee0'].tolist()[-1]\n",
    "cumfee1 = backtest_report['cumFee1'].tolist()[-1]/pricedata_res['price'].tolist()[-1]\n",
    "print('USDC手续费',cumfee0,'ETH手续费(USDC计价)',cumfee1)\n",
    "print('***************************资金曲线绩效***************************')\n",
    "print('最大回撤',max_drawdown(df_tb))\n",
    "print('最长回撤持续期',max_drawdown_duration(df_tb)[0],'日',\n",
    "      '起始日期',max_drawdown_duration(df_tb)[1],\n",
    "      '结束日期',max_drawdown_duration(df_tb)[2])\n",
    "print('年化收益',annual_return(df_tb))\n",
    "print('夏普比率',sharpe_ratio(df_tb))\n",
    "print('卡尔玛比率',calmar_ratio(df_tb))\n",
    "df_tb['close'].plot(title='Total Balance')"
   ]
  },
  {
   "cell_type": "code",
   "execution_count": null,
   "metadata": {},
   "outputs": [],
   "source": [
    "annualReturnNoneStrategy50 = 0.20490032648956236\n",
    "annualReturnNoneStrategy100 = 0.35132285730195645\n",
    "annualRetrunStrategy = 0.9380737159511399\n",
    "print('相对Case_usdceth_none_500_50per年化',annualRetrunStrategy - annualReturnNoneStrategy50)\n",
    "print('相对Case_usdceth_none_500_100per年化',annualRetrunStrategy - annualReturnNoneStrategy100)"
   ]
  }
 ],
 "metadata": {
  "kernelspec": {
   "display_name": "Python 3",
   "language": "python",
   "name": "python3"
  },
  "language_info": {
   "codemirror_mode": {
    "name": "ipython",
    "version": 3
   },
   "file_extension": ".py",
   "mimetype": "text/x-python",
   "name": "python",
   "nbconvert_exporter": "python",
   "pygments_lexer": "ipython3",
   "version": "3.6.5"
  },
  "toc": {
   "base_numbering": 1,
   "nav_menu": {},
   "number_sections": true,
   "sideBar": true,
   "skip_h1_title": false,
   "title_cell": "Table of Contents",
   "title_sidebar": "Contents",
   "toc_cell": false,
   "toc_position": {
    "height": "calc(100% - 180px)",
    "left": "10px",
    "top": "150px",
    "width": "218px"
   },
   "toc_section_display": true,
   "toc_window_display": true
  },
  "varInspector": {
   "cols": {
    "lenName": 16,
    "lenType": 16,
    "lenVar": 40
   },
   "kernels_config": {
    "python": {
     "delete_cmd_postfix": "",
     "delete_cmd_prefix": "del ",
     "library": "var_list.py",
     "varRefreshCmd": "print(var_dic_list())"
    },
    "r": {
     "delete_cmd_postfix": ") ",
     "delete_cmd_prefix": "rm(",
     "library": "var_list.r",
     "varRefreshCmd": "cat(var_dic_list()) "
    }
   },
   "types_to_exclude": [
    "module",
    "function",
    "builtin_function_or_method",
    "instance",
    "_Feature"
   ],
   "window_display": false
  }
 },
 "nbformat": 4,
 "nbformat_minor": 2
}
